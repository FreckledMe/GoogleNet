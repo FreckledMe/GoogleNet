{
 "cells": [
  {
   "cell_type": "code",
   "execution_count": 73,
   "metadata": {},
   "outputs": [],
   "source": [
    "import tensorflow as tf\n",
    "from tensorflow.keras.layers import Conv2D,MaxPooling2D,concatenate,AveragePooling2D,Dropout,Dense,Softmax\n",
    "from tensorflow import keras\n",
    "from tensorflow.keras.optimizers import Adam\n",
    "from tensorflow.keras.losses import SparseCategoricalCrossentropy\n",
    "from tensorflow.keras.metrics import SparseCategoricalAccuracy\n",
    "import tensorflow_datasets as tfds\n",
    "import cv2\n",
    "import numpy as np"
   ]
  },
  {
   "cell_type": "code",
   "execution_count": 83,
   "metadata": {},
   "outputs": [
    {
     "name": "stdout",
     "output_type": "stream",
     "text": [
      "Found 2339 files belonging to 10 classes.\n",
      "Found 50 files belonging to 10 classes.\n",
      "Found 50 files belonging to 10 classes.\n"
     ]
    }
   ],
   "source": [
    "train_ds = tf.keras.utils.image_dataset_from_directory(\n",
    "    'data/train',\n",
    "    seed=123,\n",
    "    batch_size=32,\n",
    "    image_size=(224,224))\n",
    "\n",
    "\n",
    "test_ds = tf.keras.utils.image_dataset_from_directory(\n",
    "    'data/test/',\n",
    "    seed=123,\n",
    "    image_size=(224,224))\n",
    "\n",
    "\n",
    "val_ds = tf.keras.utils.image_dataset_from_directory(\n",
    "    'data/valid/',\n",
    "    seed=123,\n",
    "    image_size=(224,224))"
   ]
  },
  {
   "cell_type": "code",
   "execution_count": 99,
   "metadata": {},
   "outputs": [],
   "source": [
    "normalization_layer = tf.keras.layers.experimental.preprocessing.Rescaling(1./255)\n",
    "\n",
    "train_ds = train_ds.map(lambda x, y: (normalization_layer(x), y))\n",
    "test_ds = test_ds.map(lambda x, y: (normalization_layer(x), y))\n",
    "val_ds = val_ds.map(lambda x, y: (normalization_layer(x), y))"
   ]
  },
  {
   "cell_type": "code",
   "execution_count": 84,
   "metadata": {},
   "outputs": [
    {
     "data": {
      "text/plain": [
       "['AFRICAN LEOPARD',\n",
       " 'CARACAL',\n",
       " 'CHEETAH',\n",
       " 'CLOUDED LEOPARD',\n",
       " 'JAGUAR',\n",
       " 'LIONS',\n",
       " 'OCELOT',\n",
       " 'PUMA',\n",
       " 'SNOW LEOPARD',\n",
       " 'TIGER']"
      ]
     },
     "execution_count": 84,
     "metadata": {},
     "output_type": "execute_result"
    }
   ],
   "source": [
    "train_ds.class_names"
   ]
  },
  {
   "cell_type": "code",
   "execution_count": 100,
   "metadata": {},
   "outputs": [],
   "source": [
    "class Inception(keras.layers.Layer):\n",
    "    def __init__(self,filter_1,filter_reduce_3x,filter_3x,filter_reduce_5x,filter_5x,pool_proj):\n",
    "        super(Inception,self).__init__()\n",
    "\n",
    "        self.block1 = Conv2D(filter_1,kernel_size=(1,1),padding='same',activation='relu')\n",
    "\n",
    "        self.block2_1 = Conv2D(filter_reduce_3x,kernel_size=(1,1),padding='same',activation='relu')\n",
    "        self.block2_2 = Conv2D(filter_3x,kernel_size=(3,3),padding='same',activation='relu')\n",
    "\n",
    "        self.block3_1 = Conv2D(filter_reduce_5x,kernel_size=(1,1),padding='same',activation='relu')\n",
    "        self.block3_2 = Conv2D(filter_5x,kernel_size=(5,5),padding='same',activation='relu')\n",
    "\n",
    "        self.block4_1 = MaxPooling2D(pool_size=(3,3),strides=(1,1),padding='same')\n",
    "        self.block4_2 = Conv2D(pool_proj,kernel_size=(1,1),padding='same',activation='relu')\n",
    "\n",
    "    def call(self,x):\n",
    "        layer_1 = self.block1(x)\n",
    "\n",
    "        layer_2 = self.block2_1(x)\n",
    "        layer_2 = self.block2_2(layer_2)\n",
    "\n",
    "        layer_3 = self.block3_1(x)\n",
    "        layer_3 = self.block3_2(layer_3)\n",
    "\n",
    "        layer_4 = self.block4_1(x)\n",
    "        layer_4 = self.block4_2(layer_4)\n",
    "\n",
    "        return concatenate([layer_1,layer_2,layer_3,layer_4],axis=-1)\n",
    "    \n",
    "class GoogleNet(keras.Model):\n",
    "    def __init__(self):\n",
    "        super(GoogleNet,self).__init__()\n",
    "\n",
    "        self.pool = MaxPooling2D(pool_size=(3,3),strides=(2,2),padding='same')\n",
    "\n",
    "        #block 1\n",
    "        self.conv1 = Conv2D(64,kernel_size=(7,7),strides=(2,2),padding='same',activation='relu')\n",
    "        \n",
    "        #block 2\n",
    "        self.conv2 = Conv2D(64,kernel_size=(1,1),strides=(1,1),padding='same',activation='relu')\n",
    "\n",
    "        self.conv3 = Conv2D(192,kernel_size=(3,3),strides=(1,1),padding='same',activation='relu')\n",
    "\n",
    "        #block 3 (inception 3)\n",
    "        self.inception_3a = Inception(64,96,128,16,32,32)\n",
    "        self.inception_3b = Inception(128,128,192,32,96,64)\n",
    "\n",
    "        #block 4 (inception 4)\n",
    "        self.inception_4a = Inception(192,96,208,16,48,64)\n",
    "        self.inception_4b = Inception(160,112,224,24,64,64)\n",
    "        self.inception_4c = Inception(128,128,256,24,64,64)\n",
    "        self.inception_4d = Inception(112,144,288,32,64,64)\n",
    "        self.inception_4e = Inception(256,160,320,32,128,128)\n",
    "\n",
    "        #block 5 (inception 5)\n",
    "        self.inception_5a = Inception(256,160,320,32,128,128)\n",
    "        self.inception_5b = Inception(384,192,384,48,128,128)\n",
    "\n",
    "        #block 6\n",
    "        self.avg_pool = AveragePooling2D(pool_size=(7,7),strides=(1,1),padding='valid')\n",
    "        self.dropout = Dropout(0.4)\n",
    "        self.fc = Dense(10,activation='softmax')\n",
    "\n",
    "\n",
    "    def call(self,x):\n",
    "\n",
    "        x = self.conv1(x) #\n",
    "        x = self.pool(x)\n",
    "\n",
    "        x = self.conv2(x)\n",
    "        x = self.conv3(x)\n",
    "        x = self.pool(x)\n",
    "\n",
    "        x = self.inception_3a(x)\n",
    "        x = self.inception_3b(x)\n",
    "        x = self.pool(x)\n",
    "\n",
    "        x = self.inception_4a(x)\n",
    "        x = self.inception_4b(x)\n",
    "        x = self.inception_4c(x)\n",
    "        x = self.inception_4d(x)\n",
    "        x = self.inception_4e(x)\n",
    "        x = self.pool(x)\n",
    "\n",
    "        x = self.inception_5a(x)\n",
    "        x = self.inception_5b(x)\n",
    "        \n",
    "        x = self.avg_pool(x)\n",
    "        x = self.dropout(x)\n",
    "        x = self.fc(x)\n",
    "\n",
    "        return x"
   ]
  },
  {
   "cell_type": "code",
   "execution_count": 101,
   "metadata": {},
   "outputs": [],
   "source": [
    "model = GoogleNet()"
   ]
  },
  {
   "cell_type": "code",
   "execution_count": 102,
   "metadata": {},
   "outputs": [],
   "source": [
    "loss_object = tf.keras.losses.SparseCategoricalCrossentropy(from_logits=True)\n",
    "\n",
    "optimizer = tf.keras.optimizers.Adam()"
   ]
  },
  {
   "cell_type": "code",
   "execution_count": 103,
   "metadata": {},
   "outputs": [],
   "source": [
    "train_loss = tf.keras.metrics.Mean(name='train_loss')\n",
    "train_accuracy = tf.keras.metrics.SparseCategoricalAccuracy(name='train_accuracy')\n",
    "\n",
    "test_loss = tf.keras.metrics.Mean(name='test_loss')\n",
    "test_accuracy = tf.keras.metrics.SparseCategoricalAccuracy(name='test_accuracy')"
   ]
  },
  {
   "cell_type": "code",
   "execution_count": 104,
   "metadata": {},
   "outputs": [],
   "source": [
    "@tf.function\n",
    "def train_step(images, labels):\n",
    "    with tf.GradientTape() as tape:\n",
    "        predictions = model(images, training=True)\n",
    "        loss = loss_object(labels, predictions)\n",
    "    gradients = tape.gradient(loss, model.trainable_variables)\n",
    "    optimizer.apply_gradients(zip(gradients, model.trainable_variables))\n",
    "    \n",
    "    train_loss(loss)\n",
    "    train_accuracy(labels, predictions)"
   ]
  },
  {
   "cell_type": "code",
   "execution_count": 105,
   "metadata": {},
   "outputs": [],
   "source": [
    "@tf.function\n",
    "def test_step(images, labels):\n",
    "    predictions = model(images, training=False)\n",
    "    t_loss = loss_object(labels, predictions)\n",
    "\n",
    "    test_loss(t_loss)\n",
    "    test_accuracy(labels, predictions)"
   ]
  },
  {
   "cell_type": "code",
   "execution_count": 106,
   "metadata": {},
   "outputs": [
    {
     "name": "stderr",
     "output_type": "stream",
     "text": [
      "c:\\Users\\justf\\miniconda3\\envs\\gpu\\lib\\site-packages\\keras\\backend.py:5582: UserWarning: \"`sparse_categorical_crossentropy` received `from_logits=True`, but the `output` argument was produced by a Softmax activation and thus does not represent logits. Was this intended?\n",
      "  output, from_logits = _get_logits(\n"
     ]
    },
    {
     "name": "stdout",
     "output_type": "stream",
     "text": [
      "Epoch 1, Loss: 2.3056039810180664, Accuracy: 9.210684776306152, Test Loss: 2.3029415607452393, Test Accuracy: 11.869436264038086\n",
      "Epoch 2, Loss: 2.3033952713012695, Accuracy: 9.57986068725586, Test Loss: 2.302717924118042, Test Accuracy: 9.792284965515137\n",
      "Epoch 3, Loss: 2.3030688762664795, Accuracy: 9.559797286987305, Test Loss: 2.3015007972717285, Test Accuracy: 8.75370979309082\n",
      "Epoch 4, Loss: 2.302891731262207, Accuracy: 10.061395645141602, Test Loss: 2.3030121326446533, Test Accuracy: 9.792284965515137\n",
      "Epoch 5, Loss: 2.3029286861419678, Accuracy: 9.539732933044434, Test Loss: 2.304098129272461, Test Accuracy: 10.830860137939453\n"
     ]
    }
   ],
   "source": [
    "EPOCHS = 5\n",
    "with tf.device('/device:GPU:0'):\n",
    "    for epoch in range(EPOCHS):\n",
    "        train_loss.reset_states()\n",
    "        train_accuracy.reset_states()\n",
    "        test_loss.reset_states()\n",
    "        test_accuracy.reset_states()\n",
    "\n",
    "        for images, labels in train_ds:\n",
    "            train_step(images, labels)\n",
    "        for test_images, test_labels in test_ds:\n",
    "            test_step(test_images, test_labels)\n",
    "        print(\n",
    "            f'Epoch {epoch + 1}, '\n",
    "            f'Loss: {train_loss.result()}, '\n",
    "            f'Accuracy: {train_accuracy.result() * 100}, '\n",
    "            f'Test Loss: {test_loss.result()}, '\n",
    "            f'Test Accuracy: {test_accuracy.result() * 100}')       "
   ]
  },
  {
   "cell_type": "code",
   "execution_count": 110,
   "metadata": {},
   "outputs": [
    {
     "name": "stdout",
     "output_type": "stream",
     "text": [
      "Model: \"google_net_9\"\n",
      "_________________________________________________________________\n",
      " Layer (type)                Output Shape              Param #   \n",
      "=================================================================\n",
      " max_pooling2d_90 (MaxPoolin  multiple                 0         \n",
      " g2D)                                                            \n",
      "                                                                 \n",
      " conv2d_513 (Conv2D)         multiple                  9472      \n",
      "                                                                 \n",
      " conv2d_514 (Conv2D)         multiple                  4160      \n",
      "                                                                 \n",
      " conv2d_515 (Conv2D)         multiple                  110784    \n",
      "                                                                 \n",
      " inception_81 (Inception)    multiple                  163696    \n",
      "                                                                 \n",
      " inception_82 (Inception)    multiple                  388736    \n",
      "                                                                 \n",
      " inception_83 (Inception)    multiple                  376176    \n",
      "                                                                 \n",
      " inception_84 (Inception)    multiple                  449160    \n",
      "                                                                 \n",
      " inception_85 (Inception)    multiple                  510104    \n",
      "                                                                 \n",
      " inception_86 (Inception)    multiple                  605376    \n",
      "                                                                 \n",
      " inception_87 (Inception)    multiple                  868352    \n",
      "                                                                 \n",
      " inception_88 (Inception)    multiple                  1043456   \n",
      "                                                                 \n",
      " inception_89 (Inception)    multiple                  1444080   \n",
      "                                                                 \n",
      " average_pooling2d_9 (Averag  multiple                 0         \n",
      " ePooling2D)                                                     \n",
      "                                                                 \n",
      " dropout_9 (Dropout)         multiple                  0         \n",
      "                                                                 \n",
      " dense_9 (Dense)             multiple                  10250     \n",
      "                                                                 \n",
      "=================================================================\n",
      "Total params: 5,983,802\n",
      "Trainable params: 5,983,802\n",
      "Non-trainable params: 0\n",
      "_________________________________________________________________\n"
     ]
    }
   ],
   "source": [
    "model.summary()"
   ]
  },
  {
   "cell_type": "code",
   "execution_count": 1,
   "metadata": {},
   "outputs": [
    {
     "name": "stdout",
     "output_type": "stream",
     "text": [
      "4.191666666666666\n"
     ]
    }
   ],
   "source": [
    "a=116+120+120+120+120+8+132+102+78+90\n",
    "b=30+30+30+30+30+30+24+18+18\n",
    "print(a/b)"
   ]
  },
  {
   "cell_type": "code",
   "execution_count": null,
   "metadata": {},
   "outputs": [],
   "source": [
    "5 - 4.19 \n",
    "4.5 - x"
   ]
  }
 ],
 "metadata": {
  "kernelspec": {
   "display_name": "gpu",
   "language": "python",
   "name": "python3"
  },
  "language_info": {
   "codemirror_mode": {
    "name": "ipython",
    "version": 3
   },
   "file_extension": ".py",
   "mimetype": "text/x-python",
   "name": "python",
   "nbconvert_exporter": "python",
   "pygments_lexer": "ipython3",
   "version": "3.9.16"
  },
  "orig_nbformat": 4
 },
 "nbformat": 4,
 "nbformat_minor": 2
}
