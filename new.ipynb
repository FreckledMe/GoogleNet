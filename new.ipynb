{
 "cells": [
  {
   "cell_type": "code",
   "execution_count": 1,
   "metadata": {},
   "outputs": [],
   "source": [
    "import tensorflow as tf\n",
    "from tensorflow.keras.layers import Conv2D,MaxPooling2D,concatenate,AveragePooling2D,Dropout,Dense,Softmax\n",
    "from tensorflow import keras\n",
    "from tensorflow.keras.optimizers import Adam\n",
    "from tensorflow.keras.losses import SparseCategoricalCrossentropy\n",
    "from tensorflow.keras.metrics import SparseCategoricalAccuracy\n",
    "import tensorflow_datasets as tfds\n",
    "import cv2\n",
    "import numpy as np"
   ]
  },
  {
   "cell_type": "code",
   "execution_count": 2,
   "metadata": {},
   "outputs": [
    {
     "name": "stdout",
     "output_type": "stream",
     "text": [
      "Found 2339 files belonging to 10 classes.\n",
      "Found 50 files belonging to 10 classes.\n",
      "Found 50 files belonging to 10 classes.\n"
     ]
    }
   ],
   "source": [
    "train_ds = tf.keras.utils.image_dataset_from_directory(\n",
    "    'data/train',\n",
    "    seed=123,\n",
    "    batch_size=32,\n",
    "    image_size=(224,224))\n",
    "\n",
    "\n",
    "test_ds = tf.keras.utils.image_dataset_from_directory(\n",
    "    'data/test/',\n",
    "    seed=123,\n",
    "    image_size=(224,224))\n",
    "\n",
    "val_ds = tf.keras.utils.image_dataset_from_directory(\n",
    "    'data/valid/',\n",
    "    seed=123,\n",
    "    image_size=(224,224))\n"
   ]
  },
  {
   "cell_type": "code",
   "execution_count": 11,
   "metadata": {},
   "outputs": [
    {
     "data": {
      "text/plain": [
       "['AFRICAN LEOPARD',\n",
       " 'CARACAL',\n",
       " 'CHEETAH',\n",
       " 'CLOUDED LEOPARD',\n",
       " 'JAGUAR',\n",
       " 'LIONS',\n",
       " 'OCELOT',\n",
       " 'PUMA',\n",
       " 'SNOW LEOPARD',\n",
       " 'TIGER']"
      ]
     },
     "execution_count": 11,
     "metadata": {},
     "output_type": "execute_result"
    }
   ],
   "source": [
    "train_ds.class_names"
   ]
  },
  {
   "cell_type": "code",
   "execution_count": 3,
   "metadata": {},
   "outputs": [],
   "source": [
    "class InceptionModule(tf.keras.layers.Layer):\n",
    "    def __init__(self, filters_1x1, filters_3x3_reduce, filters_3x3, filters_5x5_reduce, filters_5x5, filters_pool_proj):\n",
    "        super(InceptionModule, self).__init__()\n",
    "        \n",
    "        self.conv1 = Conv2D(filters_1x1, kernel_size=(1, 1), padding='same', activation='relu')\n",
    "        \n",
    "        self.conv2_reduce = Conv2D(filters_3x3_reduce, kernel_size=(1, 1), padding='same', activation='relu')\n",
    "        self.conv2 = Conv2D(filters_3x3, kernel_size=(3, 3), padding='same', activation='relu')\n",
    "        \n",
    "        self.conv3_reduce = Conv2D(filters_5x5_reduce, kernel_size=(1, 1), padding='same', activation='relu')\n",
    "        self.conv3 = Conv2D(filters_5x5, kernel_size=(5, 5), padding='same', activation='relu')\n",
    "        \n",
    "        self.pool_proj = Conv2D(filters_pool_proj, kernel_size=(1, 1), padding='same', activation='relu')\n",
    "        \n",
    "    def call(self, inputs):\n",
    "        conv1_out = self.conv1(inputs)\n",
    "        \n",
    "        conv2_reduce_out = self.conv2_reduce(inputs)\n",
    "        conv2_out = self.conv2(conv2_reduce_out)\n",
    "        \n",
    "        conv3_reduce_out = self.conv3_reduce(inputs)\n",
    "        conv3_out = self.conv3(conv3_reduce_out)\n",
    "        \n",
    "        pool_out = MaxPooling2D(pool_size=(3, 3), strides=(1, 1), padding='same')(inputs)\n",
    "        pool_proj_out = self.pool_proj(pool_out)\n",
    "        \n",
    "        inception_out = concatenate([conv1_out, conv2_out, conv3_out, pool_proj_out], axis=-1)\n",
    "        \n",
    "        return inception_out\n",
    "    \n",
    "class GoogleNet(tf.keras.Model):\n",
    "    def __init__(self, num_classes):\n",
    "        super(GoogleNet, self).__init__()\n",
    "        \n",
    "        self.conv1 = Conv2D(64, kernel_size=(7, 7), strides=(2, 2), padding='same', activation='relu')\n",
    "        self.max_pool1 = MaxPooling2D(pool_size=(3, 3), strides=(2, 2), padding='same')\n",
    "        \n",
    "        self.conv2_reduce = Conv2D(64, kernel_size=(1, 1), padding='same', activation='relu')\n",
    "        self.conv2 = Conv2D(192, kernel_size=(3, 3), padding='same', activation='relu')\n",
    "        self.max_pool2 = MaxPooling2D(pool_size=(3, 3), strides=(2, 2), padding='same')\n",
    "        \n",
    "        self.inception3a = InceptionModule(64, 96, 128, 16, 32, 32)\n",
    "        self.inception3b = InceptionModule(128, 128, 192, 32, 96, 64)\n",
    "        self.max_pool3 = MaxPooling2D(pool_size=(3, 3), strides=(2, 2), padding='same')\n",
    "        \n",
    "        self.inception4a = InceptionModule(192, 96, 208, 16, 48, 64)\n",
    "        self.inception4b = InceptionModule(160, 112, 224, 24, 64, 64)\n",
    "        self.inception4c = InceptionModule(128, 128, 256, 24, 64, 64)\n",
    "        self.inception4d = InceptionModule(112, 144, 288, 32, 64, 64)\n",
    "        self.inception4e = InceptionModule(256, 160, 320, 32, 128, 128)\n",
    "        self.max_pool4 = MaxPooling2D(pool_size=(3, 3), strides=(2, 2), padding='same')\n",
    "        \n",
    "        self.inception5a = InceptionModule(256, 160, 320, 32, 128, 128)\n",
    "        self.inception5b = InceptionModule(384, 192, 384, 48, 128, 128)\n",
    "        \n",
    "        self.avg_pool = AveragePooling2D(pool_size=(7, 7), strides=(1, 1), padding='valid')\n",
    "        self.dropout = Dropout(0.4)\n",
    "        self.fc1 = Dense(num_classes, activation='softmax')\n",
    "        \n",
    "    def call(self, inputs):\n",
    "        x = self.conv1(inputs)\n",
    "        x = self.max_pool1(x)\n",
    "        \n",
    "        x = self.conv2_reduce(x)\n",
    "        x = self.conv2(x)\n",
    "        x = self.max_pool2(x)\n",
    "        \n",
    "        x = self.inception3a(x)\n",
    "        x = self.inception3b(x)\n",
    "        x = self.max_pool3(x)\n",
    "        \n",
    "        x = self.inception4a(x)\n",
    "        x = self.inception4b(x)\n",
    "        x = self.inception4c(x)\n",
    "        x = self.inception4d(x)\n",
    "        x = self.inception4e(x)\n",
    "        x = self.max_pool4(x)\n",
    "        \n",
    "        x = self.inception5a(x)\n",
    "        x = self.inception5b(x)\n",
    "\n",
    "        x = self.avg_pool(x)\n",
    "        x = self.dropout(x)\n",
    "        \n",
    "        return self.fc1(x)"
   ]
  },
  {
   "cell_type": "code",
   "execution_count": 4,
   "metadata": {},
   "outputs": [],
   "source": [
    "model = GoogleNet(num_classes=10)"
   ]
  },
  {
   "cell_type": "code",
   "execution_count": 6,
   "metadata": {},
   "outputs": [],
   "source": [
    "loss_object = tf.keras.losses.SparseCategoricalCrossentropy(from_logits=True)\n",
    "\n",
    "optimizer = tf.keras.optimizers.Adam()"
   ]
  },
  {
   "cell_type": "code",
   "execution_count": 7,
   "metadata": {},
   "outputs": [],
   "source": [
    "train_loss = tf.keras.metrics.Mean(name='train_loss')\n",
    "train_accuracy = tf.keras.metrics.SparseCategoricalAccuracy(name='train_accuracy')\n",
    "\n",
    "test_loss = tf.keras.metrics.Mean(name='test_loss')\n",
    "test_accuracy = tf.keras.metrics.SparseCategoricalAccuracy(name='test_accuracy')"
   ]
  },
  {
   "cell_type": "code",
   "execution_count": 8,
   "metadata": {},
   "outputs": [],
   "source": [
    "@tf.function\n",
    "def train_step(images, labels):\n",
    "    with tf.GradientTape() as tape:\n",
    "        predictions = model(images, training=True)\n",
    "        loss = loss_object(labels, predictions)\n",
    "    gradients = tape.gradient(loss, model.trainable_variables)\n",
    "    optimizer.apply_gradients(zip(gradients, model.trainable_variables))\n",
    "    \n",
    "    train_loss(loss)\n",
    "    train_accuracy(labels, predictions)"
   ]
  },
  {
   "cell_type": "code",
   "execution_count": 9,
   "metadata": {},
   "outputs": [],
   "source": [
    "@tf.function\n",
    "def test_step(images, labels):\n",
    "    predictions = model(images, training=False)\n",
    "    t_loss = loss_object(labels, predictions)\n",
    "\n",
    "    test_loss(t_loss)\n",
    "    test_accuracy(labels, predictions)"
   ]
  },
  {
   "cell_type": "code",
   "execution_count": 10,
   "metadata": {},
   "outputs": [
    {
     "name": "stderr",
     "output_type": "stream",
     "text": [
      "c:\\Users\\justf\\miniconda3\\envs\\gpu\\lib\\site-packages\\keras\\backend.py:5582: UserWarning: \"`sparse_categorical_crossentropy` received `from_logits=True`, but the `output` argument was produced by a Softmax activation and thus does not represent logits. Was this intended?\n",
      "  output, from_logits = _get_logits(\n"
     ]
    },
    {
     "name": "stdout",
     "output_type": "stream",
     "text": [
      "Epoch 1, Loss: 2.4024038314819336, Accuracy: 9.821966171264648, Test Loss: 2.300820827484131, Test Accuracy: 10.830860137939453\n",
      "Epoch 2, Loss: 2.315138101577759, Accuracy: 9.989165306091309, Test Loss: 2.3193717002868652, Test Accuracy: 10.830860137939453\n",
      "Epoch 3, Loss: 2.3072822093963623, Accuracy: 9.603938102722168, Test Loss: 2.3045852184295654, Test Accuracy: 11.869436264038086\n",
      "Epoch 4, Loss: 2.305021047592163, Accuracy: 9.090301513671875, Test Loss: 2.301018714904785, Test Accuracy: 7.7151336669921875\n",
      "Epoch 5, Loss: 2.3039932250976562, Accuracy: 9.304316520690918, Test Loss: 2.3027234077453613, Test Accuracy: 9.792284965515137\n"
     ]
    }
   ],
   "source": [
    "EPOCHS = 5\n",
    "with tf.device('/device:GPU:0'):\n",
    "    for epoch in range(EPOCHS):\n",
    "        train_loss.reset_states()\n",
    "        train_accuracy.reset_states()\n",
    "        test_loss.reset_states()\n",
    "        test_accuracy.reset_states()\n",
    "\n",
    "        for images, labels in train_ds:\n",
    "            train_step(images, labels)\n",
    "        for test_images, test_labels in test_ds:\n",
    "            test_step(test_images, test_labels)\n",
    "        print(\n",
    "            f'Epoch {epoch + 1}, '\n",
    "            f'Loss: {train_loss.result()}, '\n",
    "            f'Accuracy: {train_accuracy.result() * 100}, '\n",
    "            f'Test Loss: {test_loss.result()}, '\n",
    "            f'Test Accuracy: {test_accuracy.result() * 100}'\n",
    "        )"
   ]
  },
  {
   "cell_type": "code",
   "execution_count": null,
   "metadata": {},
   "outputs": [],
   "source": []
  }
 ],
 "metadata": {
  "kernelspec": {
   "display_name": "gpu",
   "language": "python",
   "name": "python3"
  },
  "language_info": {
   "codemirror_mode": {
    "name": "ipython",
    "version": 3
   },
   "file_extension": ".py",
   "mimetype": "text/x-python",
   "name": "python",
   "nbconvert_exporter": "python",
   "pygments_lexer": "ipython3",
   "version": "3.9.16"
  },
  "orig_nbformat": 4
 },
 "nbformat": 4,
 "nbformat_minor": 2
}
